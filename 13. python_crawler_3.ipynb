{
 "cells": [
  {
   "cell_type": "code",
   "execution_count": null,
   "metadata": {},
   "outputs": [],
   "source": [
    "import requests\n",
    "import lxml.html"
   ]
  },
  {
   "cell_type": "code",
   "execution_count": null,
   "metadata": {},
   "outputs": [],
   "source": [
    "def main():\n",
    "    \"\"\"\n",
    "    크롤러의 메인 처리\n",
    "    \"\"\"\n",
    "    # 여러 페이지에서 크롤링을 위해 Session 사용\n",
    "    session = requests.Session()  \n",
    "    # scrape_list_page() 함수를 호출해서 제너레이터를 추출\n",
    "    response = session.get('http://www.hanbit.co.kr/store/books/new_book_list.html')\n",
    "    urls = scrape_list_page(response)\n",
    "    # 제너레이터는 list처럼 사용 가능\n",
    "    for url in urls:\n",
    "        print(url)\n",
    "        print('-'*70)"
   ]
  },
  {
   "cell_type": "code",
   "execution_count": null,
   "metadata": {},
   "outputs": [],
   "source": [
    "def scrape_list_page(response):\n",
    "    root = lxml.html.fromstring(response.content)\n",
    "    root.make_links_absolute(response.url)\n",
    "    for a in root.cssselect('.view_box .book_tit a'):\n",
    "        url = a.get('href')\n",
    "        # yield 구문으로 제너레이터의 요소 반환\n",
    "        yield url"
   ]
  },
  {
   "cell_type": "code",
   "execution_count": null,
   "metadata": {},
   "outputs": [],
   "source": [
    "if __name__ == '__main__':\n",
    "    main()"
   ]
  },
  {
   "cell_type": "code",
   "execution_count": null,
   "metadata": {},
   "outputs": [],
   "source": []
  }
 ],
 "metadata": {
  "kernelspec": {
   "display_name": "Python 3",
   "language": "python",
   "name": "python3"
  },
  "language_info": {
   "codemirror_mode": {
    "name": "ipython",
    "version": 3
   },
   "file_extension": ".py",
   "mimetype": "text/x-python",
   "name": "python",
   "nbconvert_exporter": "python",
   "pygments_lexer": "ipython3",
   "version": "3.8.8"
  }
 },
 "nbformat": 4,
 "nbformat_minor": 4
}
