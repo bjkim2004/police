{
 "cells": [
  {
   "cell_type": "code",
   "execution_count": null,
   "id": "739b9c0a-4a54-4ef2-ab93-f87195f7d14b",
   "metadata": {},
   "outputs": [],
   "source": [
    "import os\n",
    "import pandas as pd\n",
    "import matplotlib.pyplot as plt\n",
    "import seaborn as sns \n",
    "import re\n",
    "\n",
    "import warnings\n",
    "warnings.filterwarnings('ignore')"
   ]
  },
  {
   "cell_type": "code",
   "execution_count": null,
   "id": "fa6f230c-37a1-470c-bb15-46d09a966489",
   "metadata": {},
   "outputs": [],
   "source": [
    "통합파일_피클 = pd.read_pickle('./data2/통합파일.pkl')"
   ]
  },
  {
   "cell_type": "markdown",
   "id": "341617fc-4e52-4f73-81f9-292c51ae3a1c",
   "metadata": {},
   "source": [
    "#### <font color='red'>[통합파일_피클 데이터 프레임 인덱스 처리]</font>"
   ]
  },
  {
   "cell_type": "code",
   "execution_count": null,
   "id": "5f1f3599-2eb9-446f-baf4-db02ea5819ef",
   "metadata": {},
   "outputs": [],
   "source": [
    "통합파일_피클[통합파일_피클.index == 1]"
   ]
  },
  {
   "cell_type": "code",
   "execution_count": null,
   "id": "34d44efe-043f-4527-ab50-b0973c456723",
   "metadata": {},
   "outputs": [],
   "source": [
    "통합파일_피클.reset_index(drop = True, inplace=True)\n",
    "통합파일_피클[통합파일_피클.index == 1]"
   ]
  },
  {
   "cell_type": "markdown",
   "id": "394cce8f-2797-42f1-b499-8033b766a1b9",
   "metadata": {},
   "source": [
    "---"
   ]
  },
  {
   "cell_type": "markdown",
   "id": "25061454-242f-4636-9a78-e9d57a62f537",
   "metadata": {},
   "source": [
    "#### <font color='red'>[지번주소에서 '동' 정보 추출]</font>"
   ]
  },
  {
   "cell_type": "code",
   "execution_count": null,
   "id": "9208982b-5517-4a47-afab-cbe970240006",
   "metadata": {},
   "outputs": [],
   "source": [
    "pd.DataFrame(통합파일_피클['발생주소(지번)'][:10])"
   ]
  },
  {
   "cell_type": "code",
   "execution_count": null,
   "id": "62795a99-6db6-4aa2-9610-07fa6d551371",
   "metadata": {},
   "outputs": [],
   "source": [
    "def 동추출(주소):\n",
    "    try:      \n",
    "        주소_동 = re.findall('[가-힣]+[0-9.]*동', 주소)[-1] # 여러개 리스트 값중 마지막 인텍스 값 추출\n",
    "        주소_동2 = re.findall('[가-힣]+', 주소_동)[0] # 첫 인덱스 값 추출\n",
    "        주소_동2 =  re.sub('동|본', '', 주소_동2)\n",
    "#         return 주소_동2\n",
    "        if 주소_동2 in ['면목', '망우', '상봉', '묵', '신내', '중화']:\n",
    "            return 주소_동2\n",
    "        else:\n",
    "            return '관외'\n",
    "    except:\n",
    "        return '기타'"
   ]
  },
  {
   "cell_type": "code",
   "execution_count": null,
   "id": "1775f3eb-a9ed-40b2-bdf2-361e93548272",
   "metadata": {},
   "outputs": [],
   "source": [
    "동추출(통합파일_피클['발생주소(지번)'][0])"
   ]
  },
  {
   "cell_type": "code",
   "execution_count": null,
   "id": "c24ab7d8-eff9-4fa1-9817-41d8df120b5b",
   "metadata": {},
   "outputs": [],
   "source": [
    "통합파일_피클['주소_동'] = 통합파일_피클['발생주소(지번)'].apply(동추출)"
   ]
  },
  {
   "cell_type": "code",
   "execution_count": null,
   "id": "fb6e595a-59b8-4117-866f-606e23a78188",
   "metadata": {},
   "outputs": [],
   "source": [
    "pd.unique(통합파일_피클.주소_동)"
   ]
  },
  {
   "cell_type": "code",
   "execution_count": null,
   "id": "f63b009a-1448-4287-b934-7307857398b4",
   "metadata": {},
   "outputs": [],
   "source": [
    "통합파일_피클.주소_동.value_counts()[:10]"
   ]
  },
  {
   "cell_type": "markdown",
   "id": "fa290210-00dc-4d85-af0e-9c0bd20ba20f",
   "metadata": {},
   "source": [
    "---"
   ]
  },
  {
   "cell_type": "markdown",
   "id": "2f104085-c78a-4684-8cc9-66eb6ccca3e4",
   "metadata": {},
   "source": [
    "#### <font color='red'>Plot내 한글처리를 위해 Matplotlib의 Font를 한글폰트로 지정</font>"
   ]
  },
  {
   "cell_type": "code",
   "execution_count": null,
   "id": "c9bbec19-a7fa-4be4-85e0-59f51e09b56e",
   "metadata": {},
   "outputs": [],
   "source": [
    "plt.rcParams['font.family'] = 'Malgun Gothic'\n",
    "plt.rcParams['font.size'] = 12"
   ]
  },
  {
   "cell_type": "markdown",
   "id": "b197deee-2920-443b-b917-4dc1d861c3b5",
   "metadata": {},
   "source": [
    "---"
   ]
  },
  {
   "cell_type": "markdown",
   "id": "0a47690e-fc56-4e82-b1c5-84ae4ce594cb",
   "metadata": {},
   "source": [
    "#### <font color='red'>동별 코드별 빈도 분석</font>"
   ]
  },
  {
   "cell_type": "code",
   "execution_count": null,
   "id": "7994907d-41ba-454e-b438-690cc1559a02",
   "metadata": {},
   "outputs": [],
   "source": [
    "plt.figure(figsize=(12, 7)) \n",
    "sns.countplot(x='주소_동', hue='코드', data=통합파일_피클, palette='hls', hue_order = ['C0', 'C1', 'C2', 'C3', 'C5', 'C1선'])\n",
    "plt.grid()\n",
    "plt.show()"
   ]
  },
  {
   "cell_type": "code",
   "execution_count": null,
   "id": "40c782fd-c2f4-449e-ad8d-ce86d258e22a",
   "metadata": {},
   "outputs": [],
   "source": [
    "동별코드별_피봇 = 통합파일_피클.pivot_table('접수번호', index='주소_동', columns='코드', aggfunc='count')\n",
    "동별코드별_피봇"
   ]
  },
  {
   "cell_type": "code",
   "execution_count": null,
   "id": "7844126a-e634-4201-9412-160c069fc8de",
   "metadata": {},
   "outputs": [],
   "source": [
    "동별코드별_피봇.columns = ['C0', 'C1', 'C2', 'C3', 'C4', 'C1선']\n",
    "동별코드별_피봇"
   ]
  },
  {
   "cell_type": "code",
   "execution_count": null,
   "id": "1e9f0ad2-49b0-4f0c-9bb9-eb9af785f87b",
   "metadata": {},
   "outputs": [],
   "source": [
    "f, ax = plt.subplots(figsize=(12, 6))\n",
    "sns.heatmap(동별코드별_피봇, annot=True, fmt='.0f', cmap='RdYlGn_r', linewidths=.5, ax=ax)"
   ]
  },
  {
   "cell_type": "markdown",
   "id": "fbc1cdbc-0674-47d3-ac8b-81bf1fb0b126",
   "metadata": {},
   "source": [
    "---"
   ]
  },
  {
   "cell_type": "markdown",
   "id": "eb2c9822-8e06-4c87-b0ee-fc66862c3844",
   "metadata": {},
   "source": [
    "#### <font color='red'>동별 사건종별 빈도 분석</font>"
   ]
  },
  {
   "cell_type": "code",
   "execution_count": null,
   "id": "f33f8008-48f6-4c48-b473-73c238ea2fcc",
   "metadata": {},
   "outputs": [],
   "source": [
    "pd.unique(통합파일_피클.사건종별)"
   ]
  },
  {
   "cell_type": "code",
   "execution_count": null,
   "id": "95559e34-baf9-420c-9bdd-74c88e18e15f",
   "metadata": {},
   "outputs": [],
   "source": [
    "통합파일_피클.사건종별.value_counts()"
   ]
  },
  {
   "cell_type": "code",
   "execution_count": null,
   "id": "d15b7b29-8634-42f0-a971-b23046ede073",
   "metadata": {},
   "outputs": [],
   "source": [
    "동별사건종별접수_피봇 = 통합파일_피클.pivot_table('접수번호', index='주소_동', columns='사건종별', aggfunc='count')\n",
    "동별사건종별접수_피봇"
   ]
  },
  {
   "cell_type": "code",
   "execution_count": null,
   "id": "0ad40936-80de-42d8-a8ab-32d512e7e4a5",
   "metadata": {},
   "outputs": [],
   "source": [
    "f, ax = plt.subplots(figsize=(20, 6))\n",
    "sns.heatmap(동별사건종별접수_피봇, annot=True, fmt='.0f', cmap='RdYlGn_r', linewidths=.5, ax=ax)"
   ]
  },
  {
   "cell_type": "markdown",
   "id": "f05581d3-8e6b-421f-9f15-ad728a5ed717",
   "metadata": {},
   "source": [
    "---"
   ]
  },
  {
   "cell_type": "markdown",
   "id": "e5247c37-17b0-48e9-b810-c4c3b825ca93",
   "metadata": {},
   "source": [
    "#### <font color='red'>월별 접수건수 추이 분석</font>"
   ]
  },
  {
   "cell_type": "code",
   "execution_count": null,
   "id": "1af2b074-b56f-477c-abce-d5899281e911",
   "metadata": {},
   "outputs": [],
   "source": [
    "통합파일_피클.info()\n",
    "통합파일_피클.접수일자 = pd.to_datetime(통합파일_피클.접수일자)"
   ]
  },
  {
   "cell_type": "code",
   "execution_count": null,
   "id": "5e196ce3-5dd7-425c-bdf9-b8c16b3bf2aa",
   "metadata": {},
   "outputs": [],
   "source": [
    "통합파일_피클.info()"
   ]
  },
  {
   "cell_type": "code",
   "execution_count": null,
   "id": "78707bb2-737b-4fc9-8a2b-4143749417e9",
   "metadata": {},
   "outputs": [],
   "source": [
    "통합파일_피클.접수일자"
   ]
  },
  {
   "cell_type": "code",
   "execution_count": null,
   "id": "02bd4385-af61-41d4-9313-8539d73a5185",
   "metadata": {},
   "outputs": [],
   "source": [
    "통합파일_피클.접수일자.dt.year"
   ]
  },
  {
   "cell_type": "code",
   "execution_count": null,
   "id": "266e877b-6297-4283-9b9d-1367850718b3",
   "metadata": {},
   "outputs": [],
   "source": [
    "통합파일_피클.접수일자.dt.month"
   ]
  },
  {
   "cell_type": "code",
   "execution_count": null,
   "id": "48d7995a-1ff3-4cb2-9538-5b4b5cd96112",
   "metadata": {},
   "outputs": [],
   "source": [
    "통합파일_피클.접수일자.dt.day"
   ]
  },
  {
   "cell_type": "code",
   "execution_count": null,
   "id": "59c998f8-d267-4e11-8546-a0bc5c404fa7",
   "metadata": {},
   "outputs": [],
   "source": [
    "월별 = pd.DataFrame(통합파일_피클.접수일자.dt.month.value_counts())\n",
    "월별"
   ]
  },
  {
   "cell_type": "code",
   "execution_count": null,
   "id": "f6138ef4-c508-461b-a96a-bdc45e6702f5",
   "metadata": {},
   "outputs": [],
   "source": [
    "월별.reset_index(drop=False, inplace=True)\n",
    "월별"
   ]
  },
  {
   "cell_type": "code",
   "execution_count": null,
   "id": "bff29c2a-5453-47cf-84ad-596ab7b36b1b",
   "metadata": {},
   "outputs": [],
   "source": [
    "월별.columns = ['월', '건수']\n",
    "월별"
   ]
  },
  {
   "cell_type": "code",
   "execution_count": null,
   "id": "ebb55653-b1dc-4234-9193-63318a8e8e60",
   "metadata": {},
   "outputs": [],
   "source": [
    "월별.sort_values('월')"
   ]
  },
  {
   "cell_type": "code",
   "execution_count": null,
   "id": "b4430bd5-5bf3-4a49-92cc-51e131036fb1",
   "metadata": {},
   "outputs": [],
   "source": [
    "plt.figure(figsize=(7, 7)) \n",
    "sns.barplot(x='월', y = '건수', data=월별.sort_values('월'), palette='hls')\n",
    "plt.grid()\n",
    "plt.show()"
   ]
  },
  {
   "cell_type": "markdown",
   "id": "c89d4212-80d0-466e-a58a-5a8f53988cd3",
   "metadata": {},
   "source": [
    "---"
   ]
  },
  {
   "cell_type": "markdown",
   "id": "a861d122-6262-4d50-893d-1736af6051cb",
   "metadata": {},
   "source": [
    "#### <font color='red'>일별 접수건수 분석</font>"
   ]
  },
  {
   "cell_type": "code",
   "execution_count": null,
   "id": "16f6544e-c152-4bfc-9201-64d19b4321bc",
   "metadata": {},
   "outputs": [],
   "source": [
    "일별 = pd.DataFrame(통합파일_피클.접수일자.value_counts())\n",
    "일별"
   ]
  },
  {
   "cell_type": "code",
   "execution_count": null,
   "id": "a3c7b6d8-6c00-40cd-a9ff-b89dbcabcbd5",
   "metadata": {},
   "outputs": [],
   "source": [
    "일별.reset_index(drop=False, inplace=True)\n",
    "일별"
   ]
  },
  {
   "cell_type": "code",
   "execution_count": null,
   "id": "dbed67c1-6f14-4564-82fc-297a3cc8a493",
   "metadata": {},
   "outputs": [],
   "source": [
    "일별.columns = ['일', '건수']\n",
    "일별.일 = 일별.일.astype('str')\n",
    "일별"
   ]
  },
  {
   "cell_type": "code",
   "execution_count": null,
   "id": "4a9757a9-a86b-4ea8-842e-8d1a0478ff78",
   "metadata": {},
   "outputs": [],
   "source": [
    "plt.figure(figsize=(30, 15)) \n",
    "sns.set(font_scale = 2, font=\"Malgun Gothic\")\n",
    "sns.barplot(x='일', y = '건수', data=일별.sort_values('일').iloc[:50,], palette='hls')\n",
    "plt.xticks(rotation=90)\n",
    "plt.grid()\n",
    "plt.show()"
   ]
  },
  {
   "cell_type": "code",
   "execution_count": null,
   "id": "3197b4b1-c868-412f-8a95-81dd661c80f4",
   "metadata": {},
   "outputs": [],
   "source": [
    "sns.set(font=\"Malgun Gothic\", font_scale = 1) "
   ]
  },
  {
   "cell_type": "markdown",
   "id": "b717a4ad-2ae0-476c-aaa6-ef9c4a56d5ad",
   "metadata": {},
   "source": [
    "---"
   ]
  },
  {
   "cell_type": "markdown",
   "id": "b1573e52-2e9e-4af9-93cc-ccdfb8ad7320",
   "metadata": {},
   "source": [
    "#### <font color='red'>요일별 접수 추이 분석</font>"
   ]
  },
  {
   "cell_type": "code",
   "execution_count": null,
   "id": "8dd65d6c-b78d-4dbf-a215-570ddcafa19d",
   "metadata": {},
   "outputs": [],
   "source": [
    "통합파일_피클['요일'] = 통합파일_피클.접수일자.dt.weekday"
   ]
  },
  {
   "cell_type": "code",
   "execution_count": null,
   "id": "ee2eb97b-4bf1-46a7-9534-6c4e654cdb4a",
   "metadata": {},
   "outputs": [],
   "source": [
    "pd.unique(통합파일_피클.요일)"
   ]
  },
  {
   "cell_type": "code",
   "execution_count": null,
   "id": "82d7ad45-e2fe-4440-bb51-5caf0224f444",
   "metadata": {},
   "outputs": [],
   "source": [
    "통합파일_피클.요일 = 통합파일_피클.요일.map({0:'월요일', 1:'화요일', 2:'수요일', 3:'목요일', \n",
    "                                           4:'금요일', 5:'토요일', 6:'일요일'})"
   ]
  },
  {
   "cell_type": "code",
   "execution_count": null,
   "id": "58f7214f-a009-40e5-b08f-c035019abbda",
   "metadata": {},
   "outputs": [],
   "source": [
    "pd.unique(통합파일_피클.요일)"
   ]
  },
  {
   "cell_type": "code",
   "execution_count": null,
   "id": "422b6c83-d0f7-46ba-9fb7-e5c98d6d7046",
   "metadata": {},
   "outputs": [],
   "source": [
    "요일별코드별_피봇 = 통합파일_피클.pivot_table('접수번호', index='요일', columns='코드', aggfunc='count')\n",
    "요일별코드별_피봇"
   ]
  },
  {
   "cell_type": "code",
   "execution_count": null,
   "id": "2b53ca6b-9aa8-4fff-a3e8-80ad0f247d0d",
   "metadata": {},
   "outputs": [],
   "source": [
    "요일별코드별_피봇.columns = ['C0', 'C1', 'C2', 'C3', 'C5', 'C1선']\n",
    "요일별코드별_피봇"
   ]
  },
  {
   "cell_type": "code",
   "execution_count": null,
   "id": "39d1d6e1-a6f5-47f8-a19b-8ac744031fef",
   "metadata": {},
   "outputs": [],
   "source": [
    "요일별코드별_피봇 = 요일별코드별_피봇.reindex(index = ['월요일', '화요일', '수요일', '목요일', '금요일', '토요일', '일요일']) \n",
    "요일별코드별_피봇"
   ]
  },
  {
   "cell_type": "code",
   "execution_count": null,
   "id": "e7731cb6-cf53-4471-8895-28f99e709e55",
   "metadata": {},
   "outputs": [],
   "source": [
    "plt.figure(figsize=(12, 7)) \n",
    "sns.countplot(x=통합파일_피클.요일, hue='코드', data=통합파일_피클, palette='hls', \n",
    "              order = ['월요일', '화요일', '수요일', '목요일', '금요일','토요일','일요일'],\n",
    "              hue_order = ['C0', 'C1', 'C2', 'C3', 'C5', 'C1선'])\n",
    "plt.grid()\n",
    "plt.show()"
   ]
  },
  {
   "cell_type": "code",
   "execution_count": null,
   "id": "426aa85d-16a2-464a-9586-b38ea36a6d00",
   "metadata": {},
   "outputs": [],
   "source": [
    "주소별요일별_피봇 = 통합파일_피클.pivot_table('접수번호', index=['주소_동', '요일'], columns='코드', aggfunc='count')\n",
    "주소별요일별_피봇"
   ]
  },
  {
   "cell_type": "code",
   "execution_count": null,
   "id": "017021f2-ff53-423b-8f47-732a454e3709",
   "metadata": {},
   "outputs": [],
   "source": [
    "주소별요일별_주요사건 = 주소별요일별_피봇.reset_index(drop=False)\n",
    "주소별요일별_주요사건"
   ]
  },
  {
   "cell_type": "code",
   "execution_count": null,
   "id": "42bc9857-f614-4f52-80e3-c6fe5b2b2a8b",
   "metadata": {},
   "outputs": [],
   "source": [
    "관내주소별요일별_주요사건 = 주소별요일별_주요사건[~주소별요일별_주요사건.주소_동.isin(['관외', '기타'])]\n",
    "관내주소별요일별_주요사건"
   ]
  },
  {
   "cell_type": "code",
   "execution_count": null,
   "id": "15799cf4-2d89-41a2-a9d8-cc890c12474d",
   "metadata": {},
   "outputs": [],
   "source": [
    "관내주소별요일별_주요사건 = 관내주소별요일별_주요사건.iloc[:, :4]\n",
    "관내주소별요일별_주요사건"
   ]
  },
  {
   "cell_type": "code",
   "execution_count": null,
   "id": "b2235c4e-80e3-468b-9b17-1fb9f47a070c",
   "metadata": {},
   "outputs": [],
   "source": [
    "동목록 = pd.unique(관내주소별요일별_주요사건.주소_동)\n",
    "동목록"
   ]
  },
  {
   "cell_type": "code",
   "execution_count": null,
   "id": "04d822b7-edda-4c1d-bdb2-f8ba4edda22d",
   "metadata": {},
   "outputs": [],
   "source": [
    "코드값 = 관내주소별요일별_주요사건.C1\n",
    "최고값 = 코드값.max()\n",
    "\n",
    "plt.figure(figsize=(20,6))\n",
    "for i, 동 in enumerate(동목록):  \n",
    "    plt.subplot(2,3,i+1)\n",
    "    데이터 = 관내주소별요일별_주요사건[관내주소별요일별_주요사건.주소_동 == 동]\n",
    "    g = sns.barplot(x=코드값, y= '요일', data=데이터, palette='hls', orient='h')\n",
    "    g.set(title=동)\n",
    "    g.set_xlim(0, 최고값)\n",
    "plt.tight_layout()\n",
    "plt.show()"
   ]
  },
  {
   "cell_type": "markdown",
   "id": "d68afc80-3b6c-4bf5-b240-2287c5849421",
   "metadata": {},
   "source": [
    "---"
   ]
  },
  {
   "cell_type": "markdown",
   "id": "b6183102-ee85-415e-92bf-8c2481fde387",
   "metadata": {},
   "source": [
    "#### <font color='red'>접수시간대별 분석</font>"
   ]
  },
  {
   "cell_type": "code",
   "execution_count": null,
   "id": "a8ca4285-6319-4eca-8fca-eef4bf39b8d2",
   "metadata": {},
   "outputs": [],
   "source": [
    "통합파일_피클.info()"
   ]
  },
  {
   "cell_type": "code",
   "execution_count": null,
   "id": "d2b0f191-2634-4212-98be-e1f9ec2595da",
   "metadata": {},
   "outputs": [],
   "source": [
    "통합파일_피클.접수시간 = pd.to_datetime(통합파일_피클.접수시간, format='%H:%M:%S')\n",
    "통합파일_피클.info()"
   ]
  },
  {
   "cell_type": "code",
   "execution_count": null,
   "id": "7ec00e3d-3685-4c1e-9619-01759a5f614d",
   "metadata": {},
   "outputs": [],
   "source": [
    "통합파일_피클.접수시간"
   ]
  },
  {
   "cell_type": "code",
   "execution_count": null,
   "id": "9170f1b2-b56d-435c-a587-3f197de2fe19",
   "metadata": {},
   "outputs": [],
   "source": [
    "통합파일_피클.접수시간.dt.hour"
   ]
  },
  {
   "cell_type": "code",
   "execution_count": null,
   "id": "55a0e695-cb3a-4a83-a7f1-e884b9afcb74",
   "metadata": {},
   "outputs": [],
   "source": [
    "통합파일_피클['접수시간대'] = 통합파일_피클.접수시간.dt.hour"
   ]
  },
  {
   "cell_type": "code",
   "execution_count": null,
   "id": "bcc016f1-8cf9-41d8-9287-da6bd43b25f3",
   "metadata": {},
   "outputs": [],
   "source": [
    "통합파일_피클.접수시간대.value_counts()"
   ]
  },
  {
   "cell_type": "code",
   "execution_count": null,
   "id": "975ad741-63d0-4396-b2bf-090628a13e7f",
   "metadata": {},
   "outputs": [],
   "source": [
    "plt.figure(figsize=(12, 7)) \n",
    "sns.countplot(x='접수시간대',hue='코드', data=통합파일_피클, palette='hls', hue_order = ['C0', 'C1', 'C2', 'C3', 'C5', 'C1선'])\n",
    "plt.grid()\n",
    "plt.show()"
   ]
  },
  {
   "cell_type": "markdown",
   "id": "ab4334c2-a4d1-4e35-9187-3aaa0e640ce9",
   "metadata": {},
   "source": [
    "---"
   ]
  },
  {
   "cell_type": "markdown",
   "id": "9b1c9dd1-a175-4cf7-88b7-3ad942c63a04",
   "metadata": {},
   "source": [
    "#### <font color='red'>관할관서별 출동소요시간 분석</font>"
   ]
  },
  {
   "cell_type": "code",
   "execution_count": null,
   "id": "fa09c438-a007-4c92-878e-c9995de5bdae",
   "metadata": {},
   "outputs": [],
   "source": [
    "통합파일_피클.출동소요시간"
   ]
  },
  {
   "cell_type": "code",
   "execution_count": null,
   "id": "2ff6a056-4263-44c9-8db6-4b0a8b4ed762",
   "metadata": {},
   "outputs": [],
   "source": [
    "통합파일_피클[통합파일_피클.출동소요시간.notnull() & ~통합파일_피클.출동소요시간.str.contains('0일', na=False)]"
   ]
  },
  {
   "cell_type": "code",
   "execution_count": null,
   "id": "9523ae61-1ca9-470a-a2ce-cc991c0c8ef3",
   "metadata": {},
   "outputs": [],
   "source": [
    "import numpy as np\n",
    "def 출동소요시간변환(시간):\n",
    "    if not pd.api.types.is_float(시간):\n",
    "        시간 = re.sub('0일 ', '', 시간)\n",
    "    return 시간"
   ]
  },
  {
   "cell_type": "code",
   "execution_count": null,
   "id": "84d6da2e-0899-457f-925b-2d943a572fa6",
   "metadata": {},
   "outputs": [],
   "source": [
    "통합파일_피클.출동소요시간 = 통합파일_피클.출동소요시간.apply(출동소요시간변환)\n",
    "통합파일_피클.출동소요시간"
   ]
  },
  {
   "cell_type": "code",
   "execution_count": null,
   "id": "62067a6f-b578-4e46-a6a1-33091156bcc8",
   "metadata": {},
   "outputs": [],
   "source": [
    "통합파일_피클.info()"
   ]
  },
  {
   "cell_type": "code",
   "execution_count": null,
   "id": "e13454fa-c38e-4b7e-a024-2eb6dd531bac",
   "metadata": {},
   "outputs": [],
   "source": [
    "통합파일_피클.출동소요시간 = pd.to_timedelta(통합파일_피클.출동소요시간, errors='coerce')\n",
    "통합파일_피클.출동소요시간"
   ]
  },
  {
   "cell_type": "code",
   "execution_count": null,
   "id": "1febacdc-6ff5-48ac-a242-5da744507d15",
   "metadata": {},
   "outputs": [],
   "source": [
    "통합파일_피클.출동소요시간.mean()"
   ]
  },
  {
   "cell_type": "code",
   "execution_count": null,
   "id": "397d92d8-5141-4f39-a295-fe26935a252f",
   "metadata": {},
   "outputs": [],
   "source": [
    "통합파일_피클.groupby(['관할관서', '코드'])['출동소요시간']"
   ]
  },
  {
   "cell_type": "code",
   "execution_count": null,
   "id": "06e76bac-8c35-4e57-93e2-0ece7d557527",
   "metadata": {},
   "outputs": [],
   "source": [
    "통합파일_피클_출동소요시간 = 통합파일_피클[통합파일_피클.출동소요시간.notnull()]"
   ]
  },
  {
   "cell_type": "code",
   "execution_count": null,
   "id": "df693016-b1b1-4096-aa7e-021f449035b2",
   "metadata": {},
   "outputs": [],
   "source": [
    "관할관서별출동소요시간 = pd.DataFrame(통합파일_피클_출동소요시간.groupby(['관할관서', '코드'])['출동소요시간'].mean(numeric_only=False))\n",
    "관할관서별출동소요시간"
   ]
  },
  {
   "cell_type": "code",
   "execution_count": null,
   "id": "81525031-3e14-4a57-aab5-6703e4748b64",
   "metadata": {},
   "outputs": [],
   "source": [
    "관할관서별출동소요시간.reset_index(drop=False, inplace=True)\n",
    "관할관서별출동소요시간"
   ]
  },
  {
   "cell_type": "code",
   "execution_count": null,
   "id": "8ee0bc62-4062-477a-bab3-e2104be71abd",
   "metadata": {},
   "outputs": [],
   "source": [
    "관할관서별출동소요시간 = 관할관서별출동소요시간[관할관서별출동소요시간.코드.isin(['C0', 'C1'])]\n",
    "관할관서별출동소요시간"
   ]
  },
  {
   "cell_type": "code",
   "execution_count": null,
   "id": "58aa0b45-2b5c-4059-892e-97b051e2d58a",
   "metadata": {},
   "outputs": [],
   "source": [
    "관할관서별출동소요시간['분'] = round(관할관서별출동소요시간.출동소요시간.astype('timedelta64[s]')/60,1)\n",
    "관할관서별출동소요시간"
   ]
  },
  {
   "cell_type": "code",
   "execution_count": null,
   "id": "db67e6bf-4607-4c59-8695-f0c419b15256",
   "metadata": {},
   "outputs": [],
   "source": [
    "관할관서별출동소요시간.drop('출동소요시간', axis=1, inplace=True)\n",
    "관할관서별출동소요시간"
   ]
  },
  {
   "cell_type": "code",
   "execution_count": null,
   "id": "9d0047b1-0ad5-43cb-8194-bbe7475f31c7",
   "metadata": {},
   "outputs": [],
   "source": [
    "g = sns.catplot(x='관할관서', kind='bar', y='분', hue='코드', data=관할관서별출동소요시간, palette='hls', hue_order=['C0', 'C1'])\n",
    "g.set_xticklabels(rotation=45, horizontalalignment='right')\n",
    "plt.grid()\n",
    "plt.show()"
   ]
  },
  {
   "cell_type": "markdown",
   "id": "5bf4ef60-8c7e-4963-9bef-67980d7a137a",
   "metadata": {},
   "source": [
    "---"
   ]
  },
  {
   "cell_type": "markdown",
   "id": "3bfcb899-96fa-461b-a87e-061e8a80c620",
   "metadata": {},
   "source": [
    "#### <font color='red'>관할관서별 평균 출동소요시간 초과 분석</font>"
   ]
  },
  {
   "cell_type": "code",
   "execution_count": null,
   "id": "2a845fa3-9a08-4b1c-9eac-cd61dba31729",
   "metadata": {},
   "outputs": [],
   "source": [
    "통합파일_피클['출동소요시간평균초과여부'] = 통합파일_피클.출동소요시간 > 통합파일_피클.출동소요시간.mean()"
   ]
  },
  {
   "cell_type": "code",
   "execution_count": null,
   "id": "b73aa36d-05a1-48fe-9088-e2e25a8a030b",
   "metadata": {},
   "outputs": [],
   "source": [
    "통합파일_피클.출동소요시간평균초과여부"
   ]
  },
  {
   "cell_type": "code",
   "execution_count": null,
   "id": "24042daa-c9f5-45b6-b89c-27313199a3e1",
   "metadata": {},
   "outputs": [],
   "source": [
    "출동소요시간초과 = 통합파일_피클[통합파일_피클.출동소요시간평균초과여부 & 통합파일_피클.코드.isin(['C0', 'C1'])]\n",
    "출동소요시간초과"
   ]
  },
  {
   "cell_type": "code",
   "execution_count": null,
   "id": "91b396de-fde6-4f35-89a5-5558ae2ca5e5",
   "metadata": {},
   "outputs": [],
   "source": [
    "출동소요시간초과.관할관서.value_counts()"
   ]
  },
  {
   "cell_type": "code",
   "execution_count": null,
   "id": "c48bdcd5-e0a3-42ab-8ad5-5e1df6e3e7bf",
   "metadata": {},
   "outputs": [],
   "source": []
  },
  {
   "cell_type": "markdown",
   "id": "b1ea8320-7a18-4211-9493-91fa4956e111",
   "metadata": {},
   "source": [
    "---"
   ]
  },
  {
   "cell_type": "markdown",
   "id": "e4251347-a5b2-4b6d-8ba2-0f6d06eb74d3",
   "metadata": {},
   "source": [
    "#### <font color='red'>접수종결 소요시간 분석</font>"
   ]
  },
  {
   "cell_type": "code",
   "execution_count": null,
   "id": "f07f9585-2a9c-4d96-a4ea-80de206ce437",
   "metadata": {},
   "outputs": [],
   "source": [
    "통합파일_피클['접수일자시간'] = 통합파일_피클.접수일자.astype('str') + ' ' + 통합파일_피클.접수시간.dt.time.astype('str')"
   ]
  },
  {
   "cell_type": "code",
   "execution_count": null,
   "id": "55b94f7c-91d3-4908-8e3f-afd122e4d4d6",
   "metadata": {},
   "outputs": [],
   "source": [
    "통합파일_피클.접수일자시간"
   ]
  },
  {
   "cell_type": "code",
   "execution_count": null,
   "id": "1c6f48fc-af57-41a9-a61c-5f84288d38f5",
   "metadata": {},
   "outputs": [],
   "source": [
    "통합파일_피클.접수일자시간 = pd.to_datetime(통합파일_피클.접수일자시간)"
   ]
  },
  {
   "cell_type": "code",
   "execution_count": null,
   "id": "d48f5a1c-2c46-45b9-b2cd-09ce8dde1c45",
   "metadata": {},
   "outputs": [],
   "source": [
    "통합파일_피클.종결시간 = pd.to_datetime(통합파일_피클.종결시간)"
   ]
  },
  {
   "cell_type": "code",
   "execution_count": null,
   "id": "9eb659cb-1d9c-4825-8e64-da9f31021b0c",
   "metadata": {},
   "outputs": [],
   "source": [
    "통합파일_피클.종결시간 - 통합파일_피클.접수일자시간"
   ]
  },
  {
   "cell_type": "code",
   "execution_count": null,
   "id": "3c3fee00-041b-44e5-a2f4-e669da801aef",
   "metadata": {},
   "outputs": [],
   "source": [
    "통합파일_피클['접수종결소요시간'] = round((통합파일_피클.종결시간 - 통합파일_피클.접수일자시간).astype('timedelta64[s]')/60,1)"
   ]
  },
  {
   "cell_type": "code",
   "execution_count": null,
   "id": "da1f6097-d654-4465-a422-e8868194664c",
   "metadata": {},
   "outputs": [],
   "source": [
    "통합파일_피클.접수종결소요시간"
   ]
  },
  {
   "cell_type": "code",
   "execution_count": null,
   "id": "c2d9fc8b-5b62-4f24-ab33-952d03c22504",
   "metadata": {},
   "outputs": [],
   "source": [
    "plt.figure(figsize=(6,6))\n",
    "sns.distplot(통합파일_피클.접수종결소요시간)\n",
    "plt.tight_layout()\n",
    "plt.show()"
   ]
  },
  {
   "cell_type": "code",
   "execution_count": null,
   "id": "fbb595d9-a849-4c2d-a90d-6d91e49264f1",
   "metadata": {},
   "outputs": [],
   "source": [
    "관할관서별접수종결소요시간 = pd.DataFrame(통합파일_피클.groupby(['관할관서', '코드'])['접수종결소요시간'].mean(numeric_only=False))\n",
    "관할관서별접수종결소요시간"
   ]
  },
  {
   "cell_type": "code",
   "execution_count": null,
   "id": "caa8b01a-253b-4c62-b0a5-040da48041b0",
   "metadata": {},
   "outputs": [],
   "source": [
    "관할관서별접수종결소요시간.reset_index(drop=False, inplace=True)\n",
    "관할관서별접수종결소요시간"
   ]
  },
  {
   "cell_type": "code",
   "execution_count": null,
   "id": "c26d5d87-6a0f-4b67-bc9f-14cb69fc2138",
   "metadata": {},
   "outputs": [],
   "source": [
    "관할관서별접수종결소요시간 = round(관할관서별접수종결소요시간, 1)\n",
    "관할관서별접수종결소요시간"
   ]
  },
  {
   "cell_type": "code",
   "execution_count": null,
   "id": "163c391d-d374-41e4-8929-975cad6e6bfa",
   "metadata": {},
   "outputs": [],
   "source": [
    "관할관서별접수종결소요시간 = 관할관서별접수종결소요시간[관할관서별접수종결소요시간.코드.isin(['C0', 'C1'])]\n",
    "관할관서별접수종결소요시간"
   ]
  },
  {
   "cell_type": "code",
   "execution_count": null,
   "id": "eb2801b0-a6d0-463c-ab4e-357023071556",
   "metadata": {},
   "outputs": [],
   "source": [
    "g = sns.catplot(x='관할관서', kind='bar', y='접수종결소요시간', hue='코드',\n",
    "                data=관할관서별접수종결소요시간, palette='hls',\n",
    "                hue_order = ['C0', 'C1'])\n",
    "g.set_xticklabels(rotation=45, horizontalalignment='right')\n",
    "plt.grid()\n",
    "plt.show()"
   ]
  },
  {
   "cell_type": "markdown",
   "id": "8b778cd5-9f85-4ee2-838b-421bdba6187b",
   "metadata": {},
   "source": [
    "---"
   ]
  },
  {
   "cell_type": "markdown",
   "id": "cb0a2b2c-e479-47d0-8c9a-7ffa72a0bfd1",
   "metadata": {},
   "source": [
    "#### <font color='red'>종결보고자수와 사건처리 소요시간 상관 분석</font>"
   ]
  },
  {
   "cell_type": "code",
   "execution_count": null,
   "id": "8d97df15-38a4-4bc5-bded-444792326e20",
   "metadata": {},
   "outputs": [],
   "source": [
    "list(pd.unique(통합파일_피클.종결보고자))"
   ]
  },
  {
   "cell_type": "code",
   "execution_count": null,
   "id": "51ef8247-6d48-45f5-89d1-97302811f52e",
   "metadata": {},
   "outputs": [],
   "source": [
    "re.findall('[가-힣]{2,3}', '노현우,양윤민')"
   ]
  },
  {
   "cell_type": "code",
   "execution_count": null,
   "id": "cc9e2b9e-a638-4497-b127-1db82cfff871",
   "metadata": {},
   "outputs": [],
   "source": [
    "def 종결보고자_정리(종결보고자):\n",
    "    종결보고자 = str(종결보고자)\n",
    "    re.sub('경장|경위','', 종결보고자)\n",
    "    return re.findall('[가-힣]{2,3}', 종결보고자)"
   ]
  },
  {
   "cell_type": "code",
   "execution_count": null,
   "id": "cf823d30-00c4-434e-9e29-823a6ae83511",
   "metadata": {},
   "outputs": [],
   "source": [
    "종결보고자_정리('서미숙,김승훈')"
   ]
  },
  {
   "cell_type": "code",
   "execution_count": null,
   "id": "9beff814-b391-4fc9-8073-e22d386dc51e",
   "metadata": {},
   "outputs": [],
   "source": [
    "종결보고자_정리('김진환김선영')"
   ]
  },
  {
   "cell_type": "code",
   "execution_count": null,
   "id": "ed1b6b8d-8683-4d35-a478-941f8bea3d42",
   "metadata": {},
   "outputs": [],
   "source": [
    "통합파일_피클.종결보고자 = 통합파일_피클.종결보고자.apply(종결보고자_정리)"
   ]
  },
  {
   "cell_type": "code",
   "execution_count": null,
   "id": "50260d74-f249-483e-a08d-966eca6e947a",
   "metadata": {},
   "outputs": [],
   "source": [
    "list(통합파일_피클.종결보고자)"
   ]
  },
  {
   "cell_type": "code",
   "execution_count": null,
   "id": "469699a4-5003-4096-86bb-36aea15ce397",
   "metadata": {},
   "outputs": [],
   "source": [
    "통합파일_피클['종결보고자수'] = 통합파일_피클.종결보고자.apply(lambda li: len(li))"
   ]
  },
  {
   "cell_type": "code",
   "execution_count": null,
   "id": "a2ebfeae-8669-4a2c-b048-3ac6622d0527",
   "metadata": {},
   "outputs": [],
   "source": [
    "list(통합파일_피클.종결보고자수)"
   ]
  },
  {
   "cell_type": "code",
   "execution_count": null,
   "id": "3160a5df-4144-4251-89d6-ce1c286a1863",
   "metadata": {},
   "outputs": [],
   "source": [
    "통합파일_피클.도착시간"
   ]
  },
  {
   "cell_type": "code",
   "execution_count": null,
   "id": "c64bacce-2b42-40a0-9f19-7024bb66979e",
   "metadata": {},
   "outputs": [],
   "source": [
    "통합파일_피클.종결시간"
   ]
  },
  {
   "cell_type": "code",
   "execution_count": null,
   "id": "c10c7192-339c-4e9d-b02d-2c3770b8a785",
   "metadata": {},
   "outputs": [],
   "source": [
    "통합파일_도착종결 = 통합파일_피클.loc[통합파일_피클.코드.isin(['C0', 'C1']),['도착시간', '종결시간', '종결보고자수']]\n",
    "통합파일_도착종결"
   ]
  },
  {
   "cell_type": "code",
   "execution_count": null,
   "id": "326b7cbf-9f05-45b3-ab6d-64527a31a366",
   "metadata": {},
   "outputs": [],
   "source": [
    "통합파일_도착종결.dropna(inplace = True)\n",
    "통합파일_도착종결.info()"
   ]
  },
  {
   "cell_type": "code",
   "execution_count": null,
   "id": "a293e9f3-70b8-4cd8-8838-85f967e94253",
   "metadata": {},
   "outputs": [],
   "source": [
    "통합파일_도착종결 = 통합파일_도착종결[통합파일_도착종결.종결보고자수 != 0]\n",
    "통합파일_도착종결.info()"
   ]
  },
  {
   "cell_type": "code",
   "execution_count": null,
   "id": "4d15e5d2-4927-4a40-96d3-6005f5a7d159",
   "metadata": {},
   "outputs": [],
   "source": [
    "통합파일_도착종결.도착시간 = pd.to_datetime(통합파일_도착종결.도착시간)\n",
    "통합파일_도착종결.info()"
   ]
  },
  {
   "cell_type": "code",
   "execution_count": null,
   "id": "f49b5ead-6bad-49a6-aa21-6198b580b732",
   "metadata": {},
   "outputs": [],
   "source": [
    "통합파일_도착종결['사건처리시간'] = 통합파일_도착종결.종결시간 - 통합파일_도착종결.도착시간"
   ]
  },
  {
   "cell_type": "code",
   "execution_count": null,
   "id": "f01cc866-845b-4277-b53f-b3b0575ca3e6",
   "metadata": {},
   "outputs": [],
   "source": [
    "통합파일_도착종결.사건처리시간 = round(통합파일_도착종결.사건처리시간.astype('timedelta64[s]')/60,1)"
   ]
  },
  {
   "cell_type": "code",
   "execution_count": null,
   "id": "14b40a38-df04-4dee-a7f4-3ca6545b2e66",
   "metadata": {},
   "outputs": [],
   "source": [
    "통합파일_도착종결.사건처리시간"
   ]
  },
  {
   "cell_type": "code",
   "execution_count": null,
   "id": "e14add22-40dd-4e1d-a62a-b8cec2ba9749",
   "metadata": {},
   "outputs": [],
   "source": [
    "통합파일_도착종결_상관계수 = 통합파일_도착종결.corr()"
   ]
  },
  {
   "cell_type": "code",
   "execution_count": null,
   "id": "3862a58b-fcfb-45f0-bf3b-2fa329968451",
   "metadata": {},
   "outputs": [],
   "source": [
    "plt.figure(figsize=(6,6))\n",
    "\n",
    "sns.heatmap(통합파일_도착종결_상관계수, annot=True, cmap='Blues')\n",
    "plt.show()"
   ]
  },
  {
   "cell_type": "markdown",
   "id": "bfd1e477-9a61-4e16-9fa1-0a5b893cb7e0",
   "metadata": {},
   "source": [
    "---"
   ]
  },
  {
   "cell_type": "markdown",
   "id": "a8c533a9-1cbf-4fa5-bec7-e1de12de7cda",
   "metadata": {},
   "source": [
    "#### <font color='red'>종결보고자별 분석</font>"
   ]
  },
  {
   "cell_type": "code",
   "execution_count": null,
   "id": "2d914783-9248-4916-b7a2-64b6e6de2db6",
   "metadata": {},
   "outputs": [],
   "source": [
    "통합파일_피클.종결보고자"
   ]
  },
  {
   "cell_type": "code",
   "execution_count": null,
   "id": "dd0c2eac-0642-4ed5-b408-b2f8e51df506",
   "metadata": {},
   "outputs": [],
   "source": [
    "통합파일_피클.pivot_table('종결보고자수', index='관할관서', columns='코드', aggfunc='mean')"
   ]
  },
  {
   "cell_type": "code",
   "execution_count": null,
   "id": "d0ebae50-8e75-4bf1-9e3d-d3263afcae89",
   "metadata": {},
   "outputs": [],
   "source": [
    "통합파일_피클.종결보고자"
   ]
  },
  {
   "cell_type": "code",
   "execution_count": null,
   "id": "74f43568-fe7c-4262-a21b-35ddce184dbf",
   "metadata": {},
   "outputs": [],
   "source": [
    "관할관서별종결보고자 = 통합파일_피클.loc[:,['관할관서', '종결보고자']]\n",
    "관할관서별종결보고자"
   ]
  },
  {
   "cell_type": "code",
   "execution_count": null,
   "id": "4c7e0ee5-9782-4de4-a06e-c082d42882f4",
   "metadata": {},
   "outputs": [],
   "source": [
    "관할관서별종결보고자.종결보고자 = 관할관서별종결보고자.종결보고자.apply(lambda li: ','.join(li))\n",
    "관할관서별종결보고자.종결보고자"
   ]
  },
  {
   "cell_type": "code",
   "execution_count": null,
   "id": "06a9e6c1-d9c0-44a3-83fb-4848443405a2",
   "metadata": {},
   "outputs": [],
   "source": [
    "관할관서별종결보고자2 = 관할관서별종결보고자.종결보고자.str.split(',').apply(pd.Series)\n",
    "관할관서별종결보고자2"
   ]
  },
  {
   "cell_type": "code",
   "execution_count": null,
   "id": "86513465-fe44-4622-a236-6a0eb3e5a8e1",
   "metadata": {},
   "outputs": [],
   "source": [
    "관할관서별종결보고자2.index = 관할관서별종결보고자.set_index('관할관서').index\n",
    "관할관서별종결보고자2 = 관할관서별종결보고자2.stack().reset_index('관할관서')\n",
    "관할관서별종결보고자2"
   ]
  },
  {
   "cell_type": "code",
   "execution_count": null,
   "id": "71fc7ee1-4038-417e-8689-aa2756eda0f4",
   "metadata": {},
   "outputs": [],
   "source": [
    "관할관서별종결보고자2.columns = ['관할관서', '종결보고자']\n",
    "관할관서별종결보고자2"
   ]
  },
  {
   "cell_type": "code",
   "execution_count": null,
   "id": "79a75ec3-f270-4749-a6d9-16ebf8eae237",
   "metadata": {},
   "outputs": [],
   "source": [
    "관할관서별종결보고자2 = 관할관서별종결보고자2[관할관서별종결보고자2.종결보고자!='']"
   ]
  },
  {
   "cell_type": "code",
   "execution_count": null,
   "id": "a8345ccb-ba6a-4faa-8cf4-17da973f9255",
   "metadata": {},
   "outputs": [],
   "source": [
    "개인별종결보고실적 = pd.DataFrame(관할관서별종결보고자2.종결보고자.value_counts())\n",
    "개인별종결보고실적"
   ]
  },
  {
   "cell_type": "code",
   "execution_count": null,
   "id": "c8157721-72c0-4b9d-afc5-00b1e2a16148",
   "metadata": {},
   "outputs": [],
   "source": [
    "개인별종결보고실적.reset_index(drop = False, inplace = True)\n",
    "개인별종결보고실적"
   ]
  },
  {
   "cell_type": "code",
   "execution_count": null,
   "id": "c5664f04-255d-48aa-8891-46012769186e",
   "metadata": {},
   "outputs": [],
   "source": [
    "개인별종결보고실적.columns = ['종결보고자', '실적']\n",
    "개인별종결보고실적"
   ]
  },
  {
   "cell_type": "code",
   "execution_count": null,
   "id": "ec318728-f8b0-47f6-860e-36dcc3cf7e7e",
   "metadata": {},
   "outputs": [],
   "source": [
    "plt.figure(figsize=(6,6))\n",
    "sns.distplot(개인별종결보고실적.실적)\n",
    "plt.tight_layout()\n",
    "plt.show()"
   ]
  },
  {
   "cell_type": "code",
   "execution_count": null,
   "id": "13465235-31f7-4993-9388-d63daf63981e",
   "metadata": {},
   "outputs": [],
   "source": [
    "관할관서소속 = 관할관서별종결보고자2.groupby('관할관서').agg(lambda x: x.tolist()).reset_index()"
   ]
  },
  {
   "cell_type": "code",
   "execution_count": null,
   "id": "37f08efe-8837-459e-acc1-ede3d76c0ec6",
   "metadata": {},
   "outputs": [],
   "source": [
    "관할관서소속"
   ]
  },
  {
   "cell_type": "code",
   "execution_count": null,
   "id": "20356377-54d8-43dc-ac8a-971f28cc7f94",
   "metadata": {},
   "outputs": [],
   "source": [
    "관할관서소속['소속종결보고자수'] = 관할관서소속.종결보고자.apply(lambda li: len(li))"
   ]
  },
  {
   "cell_type": "code",
   "execution_count": null,
   "id": "0f23503d-b46d-4ccd-9fea-577aae9f960f",
   "metadata": {},
   "outputs": [],
   "source": [
    "관할관서소속"
   ]
  },
  {
   "cell_type": "code",
   "execution_count": null,
   "id": "06136428-d5f7-4d53-a583-1fc76f9a1388",
   "metadata": {},
   "outputs": [],
   "source": [
    "관할관서소속['종결보고자'] = 관할관서소속.종결보고자.apply(lambda li: set(li))"
   ]
  },
  {
   "cell_type": "code",
   "execution_count": null,
   "id": "6d381c8d-cc7a-44ff-acd0-fa9f8f9c97bc",
   "metadata": {},
   "outputs": [],
   "source": [
    "관할관서소속"
   ]
  },
  {
   "cell_type": "code",
   "execution_count": null,
   "id": "0a29dd0e-c5b3-4f3c-a0eb-953f67f37d9a",
   "metadata": {},
   "outputs": [],
   "source": [
    "관할관서소속['소속종결보고자수'] = 관할관서소속.종결보고자.apply(lambda li: len(li))"
   ]
  },
  {
   "cell_type": "code",
   "execution_count": null,
   "id": "2923e4eb-0d60-4a31-834d-2a321e07ed44",
   "metadata": {},
   "outputs": [],
   "source": [
    "관할관서소속"
   ]
  },
  {
   "cell_type": "code",
   "execution_count": null,
   "id": "f21befc4-2aee-4dac-9385-a3de6a0a6029",
   "metadata": {},
   "outputs": [],
   "source": []
  }
 ],
 "metadata": {
  "kernelspec": {
   "display_name": "Python 3",
   "language": "python",
   "name": "python3"
  },
  "language_info": {
   "codemirror_mode": {
    "name": "ipython",
    "version": 3
   },
   "file_extension": ".py",
   "mimetype": "text/x-python",
   "name": "python",
   "nbconvert_exporter": "python",
   "pygments_lexer": "ipython3",
   "version": "3.8.8"
  }
 },
 "nbformat": 4,
 "nbformat_minor": 5
}
