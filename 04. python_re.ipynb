{
 "cells": [
  {
   "cell_type": "code",
   "execution_count": null,
   "metadata": {},
   "outputs": [],
   "source": [
    "import re"
   ]
  },
  {
   "cell_type": "code",
   "execution_count": null,
   "metadata": {},
   "outputs": [],
   "source": [
    "# re.search()함수를 사용하면 두 번째 매개변수의 문자열이 첫 번째 매개변수의 정규 표현식과 매칭되는지 확인 가능\n",
    "# 매칭되는 경우 Match 객체를 반환, 매칭되지 않는 경우 None을 반환\n",
    "result = re.search(r'a.c', 'abc123DEF')"
   ]
  },
  {
   "cell_type": "code",
   "execution_count": null,
   "metadata": {},
   "outputs": [],
   "source": [
    "result"
   ]
  },
  {
   "cell_type": "code",
   "execution_count": null,
   "metadata": {},
   "outputs": [],
   "source": [
    "re.findall(r'a.c', 'abc123DEFadc')"
   ]
  },
  {
   "cell_type": "code",
   "execution_count": null,
   "metadata": {},
   "outputs": [],
   "source": [
    "result = re.search(r'a.*D', 'abc123DEF')"
   ]
  },
  {
   "cell_type": "code",
   "execution_count": null,
   "metadata": {},
   "outputs": [],
   "source": [
    "result"
   ]
  },
  {
   "cell_type": "code",
   "execution_count": null,
   "metadata": {},
   "outputs": [],
   "source": [
    "start, end = result.span()\n",
    "print(start, end)\n",
    "print(result.string)"
   ]
  },
  {
   "cell_type": "code",
   "execution_count": null,
   "metadata": {},
   "outputs": [],
   "source": [
    "# re.IGNORECASE(또는 re.I)를 지정하면 대소문자를 무시\n",
    "re.search(r'a.*d', 'abc123DEF', re.IGNORECASE)"
   ]
  },
  {
   "cell_type": "code",
   "execution_count": null,
   "metadata": {},
   "outputs": [],
   "source": [
    "# Match 객체의 group() 메서드로 일치한 값을 추출\n",
    "# 매개변수에 0을 지정하면 매치된 모든 값을 반환\n",
    "m = re.search(r'a(.*)c', 'ab123DEFc')\n",
    "m.group(0)"
   ]
  },
  {
   "cell_type": "code",
   "execution_count": null,
   "metadata": {},
   "outputs": [],
   "source": [
    "# 매개변수에 1 이상의 숫자를 지정하면 정규 표현식에서 0로 감싼 부분에 해당하는 값을 추출\n",
    "# 1이라면 1번째 그룹, 2라면 2번째 그룹 추출\n",
    "m.group(1)"
   ]
  },
  {
   "cell_type": "code",
   "execution_count": null,
   "metadata": {},
   "outputs": [],
   "source": [
    "# re.findall() 함수를 사용하면 정규 표현식에 맞는 모든 문자열을 리스트 타입으로 추출 가능\n",
    "# 다음 예에서는 2글자 이상의 단어를 모두 추출\n",
    "# \\w는 유니코드로 글자를 비교, 공백 문자는 \\s 등으로 추출할 수 있습니다.\n",
    "re.findall(r'\\w{3,4}', 'This is a pen')\n"
   ]
  },
  {
   "cell_type": "code",
   "execution_count": null,
   "metadata": {},
   "outputs": [],
   "source": [
    "'This is a pen'.replace('This', 'That')"
   ]
  },
  {
   "cell_type": "code",
   "execution_count": null,
   "metadata": {},
   "outputs": [],
   "source": [
    "# re.subO()함수를 사용하면 정규 표현식에 매칭되는 문자열 치환\n",
    "# 3번째 매개변수에 넣은 문자열에서 첫 번째 정규 표현식에 매칭되는 문자열을 2번째 매개변수 문자열로 치환\n",
    "re.sub(r'\\w{4}', 'That', 'This is a pen')"
   ]
  },
  {
   "cell_type": "code",
   "execution_count": null,
   "metadata": {},
   "outputs": [],
   "source": [
    "result = re.search(r'a.*c', ' abc123DEF')"
   ]
  },
  {
   "cell_type": "code",
   "execution_count": null,
   "metadata": {},
   "outputs": [],
   "source": [
    "# match는 시작부터 일치하는지를 검사, search는 매칭되는 위치가 어디인지 탐색\n",
    "result = re.match(r'a.*c', 'abc123DEF')\n",
    "result"
   ]
  },
  {
   "cell_type": "code",
   "execution_count": null,
   "metadata": {},
   "outputs": [],
   "source": [
    "text = \"\"\"홍길동의 전화번호는 010-1234-5678입니다.\n",
    "이메일은 hong@aa.com입니다.\n",
    "성춘향의 전화번호는 010-456-7890입니다.\"\"\"\n",
    "\n",
    "reg_phone='\\\\d{3}-\\\\d{3,4}-\\\\d{4}'\n",
    "ptn_phone = re.compile(reg_phone)\n",
    "ptn_phone.findall(text)"
   ]
  },
  {
   "cell_type": "code",
   "execution_count": null,
   "metadata": {},
   "outputs": [],
   "source": [
    "reg_email = '[0-9a-zA-Z]+[0-9a-zA-Z-_\\.]*@[0-9a-zA-Z]+[0-9a-zA-Z-_\\.]*\\.[a-zA-Z]{2,3}'  \n",
    "ptn_email = re.compile(reg_email)\n",
    "ptn_email.findall(text)"
   ]
  },
  {
   "cell_type": "code",
   "execution_count": null,
   "metadata": {},
   "outputs": [],
   "source": []
  }
 ],
 "metadata": {
  "kernelspec": {
   "display_name": "Python 3",
   "language": "python",
   "name": "python3"
  },
  "language_info": {
   "codemirror_mode": {
    "name": "ipython",
    "version": 3
   },
   "file_extension": ".py",
   "mimetype": "text/x-python",
   "name": "python",
   "nbconvert_exporter": "python",
   "pygments_lexer": "ipython3",
   "version": "3.8.8"
  }
 },
 "nbformat": 4,
 "nbformat_minor": 4
}
