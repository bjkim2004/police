{
  "cells": [
    {
      "cell_type": "code",
      "execution_count": 46,
      "metadata": {
        "id": "rPUkCDRadFsF"
      },
      "outputs": [],
      "source": [
        "import requests\n",
        "import lxml.html\n",
        "import pandas as pd\n",
        "import sqlite3\n",
        "from pandas.io import sql\n",
        "import os\n",
        "import time"
      ]
    },
    {
      "cell_type": "code",
      "execution_count": 47,
      "metadata": {
        "id": "rmLlV38PdFsH"
      },
      "outputs": [],
      "source": [
        "def db_save(NEWS_LIST):\n",
        "    with sqlite3.connect(os.path.join('.','sqliteDB')) as con:\n",
        "        try:\n",
        "            NEWS_LIST.to_sql(name = 'NEWS_LIST', con = con, index = False, if_exists='append')\n",
        "            #if_exists : {'fail', 'replace', 'append'} default : fail\n",
        "        except Exception as e:\n",
        "            print(str(e))\n",
        "        print(len(NEWS_LIST), '건 저장완료..')"
      ]
    },
    {
      "cell_type": "code",
      "execution_count": 48,
      "metadata": {
        "id": "j3w2_t3QdFsH"
      },
      "outputs": [],
      "source": [
        "def db_delete():\n",
        "    with sqlite3.connect(os.path.join('.','sqliteDB')) as con:\n",
        "        try:\n",
        "            cur = con.cursor()\n",
        "            sql = 'DELETE FROM NEWS_LIST'\n",
        "            cur.execute(sql)\n",
        "        except Exception as e:\n",
        "            print(str(e))"
      ]
    },
    {
      "cell_type": "code",
      "execution_count": 49,
      "metadata": {
        "id": "Zk7WUT0MdFsI"
      },
      "outputs": [],
      "source": [
        "def db_select():\n",
        "    with sqlite3.connect(os.path.join('.','sqliteDB')) as con:\n",
        "        try:\n",
        "            query = 'SELECT * FROM NEWS_LIST'\n",
        "            NEWS_LIST = pd.read_sql(query, con = con)\n",
        "        except Exception as e:\n",
        "            print(str(e))\n",
        "        return NEWS_LIST\n"
      ]
    },
    {
      "cell_type": "code",
      "execution_count": 50,
      "metadata": {
        "id": "Hsu553wddFsI"
      },
      "outputs": [],
      "source": [
        "import re\n",
        "import string\n",
        "\n",
        "def get_detail(url):\n",
        "    body = []\n",
        "    punc = '[!\"#$%&\\'()*+,-./:;<=>?[\\]^_`{|}~“”·‘’'']'\n",
        "    response = requests.get(url)\n",
        "    root = lxml.html.fromstring(response.content)\n",
        "    for p in root.xpath('//*[@class=\"article_view\"]/section/p'):\n",
        "        if p.text: # 체크\n",
        "            body.append(re.sub(punc, '', p.text)) # 특수문자 제거\n",
        "    full_body = ' '.join(body)\n",
        "\n",
        "    return full_body"
      ]
    },
    {
      "cell_type": "code",
      "execution_count": 51,
      "metadata": {
        "id": "t1kS7ajedFsI"
      },
      "outputs": [],
      "source": [
        "page = 74\n",
        "max_page = 0\n",
        "REG_DATE = '20230820'"
      ]
    },
    {
      "cell_type": "code",
      "execution_count": 52,
      "metadata": {
        "colab": {
          "base_uri": "https://localhost:8080/"
        },
        "id": "8bxu3q-QdFsI",
        "outputId": "fde2ed93-0f36-4fbe-9dc1-1cd334b9b54b"
      },
      "outputs": [
        {
          "output_type": "stream",
          "name": "stdout",
          "text": [
            "6 건 저장완료..\n"
          ]
        }
      ],
      "source": [
        "while(True):\n",
        "    df_list = []\n",
        "    response = requests.get(f'http://news.daum.net/breakingnews/digital?page={page}&regDate={REG_DATE}')\n",
        "    root = lxml.html.fromstring(response.content)\n",
        "    for li in root.xpath('//*[@id=\"mArticle\"]/div[3]/ul/li'):\n",
        "        a = li.xpath('div/strong/a')[0]\n",
        "        url = a.get('href')\n",
        "        article = get_detail(url)\n",
        "        df_list.append([url, a.text, article])\n",
        "\n",
        "    if df_list:\n",
        "        df_10 = pd.DataFrame(df_list)\n",
        "        df_10.columns = ['URL', 'TITLE', 'ARTICLE']\n",
        "        db_save(df_10)\n",
        "\n",
        "    # 페이지 번호 중에서 max 페이지 가져오기\n",
        "    for a in root.xpath('//*[@id=\"mArticle\"]/div[3]/div/span/a'):\n",
        "        try:\n",
        "            num = int(a.text)\n",
        "            if max_page < num:\n",
        "                max_page = num\n",
        "        except:\n",
        "            pass\n",
        "\n",
        "    # 마지막 페이지 여부 확인\n",
        "    span = root.xpath('//*[@id=\"mArticle\"]/div[3]/div/span/a[@class=\"btn_page btn_next\"]')\n",
        "\n",
        "    if (len(span) <= 0) & (page >= max_page):\n",
        "        break\n",
        "    else:\n",
        "        page = page + 1\n",
        "\n",
        "    time.sleep(1)"
      ]
    },
    {
      "cell_type": "code",
      "execution_count": 56,
      "metadata": {
        "id": "ByAu7GQUdFsJ"
      },
      "outputs": [],
      "source": [
        "# db_delete()"
      ]
    },
    {
      "cell_type": "code",
      "execution_count": 54,
      "metadata": {
        "colab": {
          "base_uri": "https://localhost:8080/"
        },
        "id": "-5U_XsnwdFsJ",
        "outputId": "74de892b-606a-4501-dc7b-1d94ab9aff81"
      },
      "outputs": [
        {
          "output_type": "stream",
          "name": "stdout",
          "text": [
            "                                        URL  \\\n",
            "0    https://v.daum.net/v/20230809095212544   \n",
            "1    https://v.daum.net/v/20230809095157531   \n",
            "2    https://v.daum.net/v/20230809095155529   \n",
            "3    https://v.daum.net/v/20230809095139520   \n",
            "4    https://v.daum.net/v/20230809095120511   \n",
            "..                                      ...   \n",
            "589  https://v.daum.net/v/20230820060118890   \n",
            "590  https://v.daum.net/v/20230820055005778   \n",
            "591  https://v.daum.net/v/20230820053201722   \n",
            "592  https://v.daum.net/v/20230820050041630   \n",
            "593  https://v.daum.net/v/20230820045214586   \n",
            "\n",
            "                                                 TITLE  \\\n",
            "0                                   비만인 사람의 뇌, 이것이 달랐다   \n",
            "1                 [컨콜] 엔씨 \"콘솔 신작 프로젝트M, 아이온2 이후 출시 예상\"   \n",
            "2                            인프랩, '인프런'으로 IT 배움 장벽 낮춘다   \n",
            "3                    바디텍메드, 2분기 영업이익 82억원…전년대비 168% 증가   \n",
            "4                          펄펄 끓는 지구…'탄소 배출'이 원인이 아니라고?   \n",
            "..                                                 ...   \n",
            "589  [인터뷰] ‘인공지능 석학’ 제리 카플란 “AI가 제공하는 정보 사업에 매우 유용…...   \n",
            "590                        부가통신사에 보편역무 부과…민형배 의원 법안 발의   \n",
            "591               \"중국·유럽은 못해\"…'월드클래스' 한국 가전엔 장애인 배려 있다   \n",
            "592             손바닥 갖다 대니 '결제 완료'…스마트폰조차 필요 없어진다 [트랜D]   \n",
            "593   [과학 한스푼] 뇌사자 몸에서 살아 기능하는 돼지 신장...'이종이식' 어디까지 왔나?   \n",
            "\n",
            "                                               ARTICLE  \n",
            "0                                                       \n",
            "1                                                       \n",
            "2                                                       \n",
            "3                                                       \n",
            "4                                                       \n",
            "..                                                 ...  \n",
            "589  생성형 인공지능AI은 우리가 일하는 방식은 물론이고 노는 방식에도 영향을 미칠 것입...  \n",
            "590  구글넷플릭스네이버카카오 등 사회적 영향이 큰 일정 규모 이상 부가통신사업자에게 취약...  \n",
            "591  20일 업계에 따르면 주요 가전기업은 최근 가전제품의 접근성 개선에 열을 올린다 L...  \n",
            "592  올해 국내에 애플페이가 도입되면서 화제가 됐습니다 국내 간편 결제 시장을 주도하는 ...  \n",
            "593  앵커  최근 미국에서 뇌사자에게 이식한 돼지의 신장이 한 달 넘게 정상적으로 기능해...  \n",
            "\n",
            "[594 rows x 3 columns]\n"
          ]
        }
      ],
      "source": [
        "news_df = db_select()\n",
        "print(news_df)"
      ]
    },
    {
      "cell_type": "code",
      "execution_count": 55,
      "metadata": {
        "id": "KA1s_K9vdFsJ",
        "outputId": "0d2db9e3-0a48-4460-fdc2-71dbb87d4313",
        "colab": {
          "base_uri": "https://localhost:8080/"
        }
      },
      "outputs": [
        {
          "output_type": "stream",
          "name": "stderr",
          "text": [
            "<ipython-input-55-298052c84b40>:3: FutureWarning: save is not part of the public API, usage can give unexpected results and will be removed in a future version\n",
            "  excel.save()\n"
          ]
        }
      ],
      "source": [
        "excel = pd.ExcelWriter('news.xlsx')\n",
        "news_df.to_excel(excel, 'Daum뉴스', index=False)\n",
        "excel.save()"
      ]
    },
    {
      "cell_type": "code",
      "source": [],
      "metadata": {
        "id": "ynDfIEbE73gz"
      },
      "execution_count": 55,
      "outputs": []
    }
  ],
  "metadata": {
    "kernelspec": {
      "display_name": "Python 3",
      "language": "python",
      "name": "python3"
    },
    "language_info": {
      "codemirror_mode": {
        "name": "ipython",
        "version": 3
      },
      "file_extension": ".py",
      "mimetype": "text/x-python",
      "name": "python",
      "nbconvert_exporter": "python",
      "pygments_lexer": "ipython3",
      "version": "3.8.8"
    },
    "colab": {
      "provenance": []
    }
  },
  "nbformat": 4,
  "nbformat_minor": 0
}