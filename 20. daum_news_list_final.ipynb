{
  "cells": [
    {
      "cell_type": "code",
      "execution_count": 1,
      "metadata": {
        "id": "rPUkCDRadFsF"
      },
      "outputs": [],
      "source": [
        "import requests\n",
        "import lxml.html\n",
        "import pandas as pd\n",
        "import sqlite3\n",
        "from pandas.io import sql\n",
        "import os\n",
        "import time"
      ]
    },
    {
      "cell_type": "code",
      "execution_count": 2,
      "metadata": {
        "id": "rmLlV38PdFsH"
      },
      "outputs": [],
      "source": [
        "def db_save(NEWS_LIST):\n",
        "    with sqlite3.connect(os.path.join('.','sqliteDB')) as con:\n",
        "        try:\n",
        "            NEWS_LIST.to_sql(name = 'NEWS_LIST', con = con, index = False, if_exists='append')\n",
        "            #if_exists : {'fail', 'replace', 'append'} default : fail\n",
        "        except Exception as e:\n",
        "            print(str(e))\n",
        "        print(len(NEWS_LIST), '건 저장완료..')"
      ]
    },
    {
      "cell_type": "code",
      "execution_count": 3,
      "metadata": {
        "id": "j3w2_t3QdFsH"
      },
      "outputs": [],
      "source": [
        "def db_delete():\n",
        "    with sqlite3.connect(os.path.join('.','sqliteDB')) as con:\n",
        "        try:\n",
        "            cur = con.cursor()\n",
        "            sql = 'DELETE FROM NEWS_LIST'\n",
        "            cur.execute(sql)\n",
        "        except Exception as e:\n",
        "            print(str(e))"
      ]
    },
    {
      "cell_type": "code",
      "execution_count": 4,
      "metadata": {
        "id": "Zk7WUT0MdFsI"
      },
      "outputs": [],
      "source": [
        "def db_select():\n",
        "    with sqlite3.connect(os.path.join('.','sqliteDB')) as con:\n",
        "        try:\n",
        "            query = 'SELECT * FROM NEWS_LIST'\n",
        "            NEWS_LIST = pd.read_sql(query, con = con)\n",
        "        except Exception as e:\n",
        "            print(str(e))\n",
        "        return NEWS_LIST\n"
      ]
    },
    {
      "cell_type": "code",
      "execution_count": 5,
      "metadata": {
        "id": "Hsu553wddFsI"
      },
      "outputs": [],
      "source": [
        "import re\n",
        "import string\n",
        "\n",
        "def get_detail(url):\n",
        "    body = []\n",
        "    punc = '[!\"#$%&\\'()*+,-./:;<=>?[\\]^_`{|}~“”·]'\n",
        "    response = requests.get(url)\n",
        "    root = lxml.html.fromstring(response.content)\n",
        "    for p in root.xpath('//*[@id=\"harmonyContainer\"]/section/p'):\n",
        "        if p.text: # 체크\n",
        "            body.append(re.sub(punc, '', p.text)) # 특수문자 제거\n",
        "    full_body = ' '.join(body)\n",
        "\n",
        "    return full_body"
      ]
    },
    {
      "cell_type": "code",
      "execution_count": 6,
      "metadata": {
        "id": "t1kS7ajedFsI"
      },
      "outputs": [],
      "source": [
        "page = 58\n",
        "max_page = 0\n",
        "REG_DATE = '20230809'"
      ]
    },
    {
      "cell_type": "code",
      "execution_count": 7,
      "metadata": {
        "colab": {
          "base_uri": "https://localhost:8080/"
        },
        "id": "8bxu3q-QdFsI",
        "outputId": "5ab75afe-3502-4785-c7be-4c335c6ac697"
      },
      "outputs": [
        {
          "output_type": "stream",
          "name": "stdout",
          "text": [
            "15 건 저장완료..\n",
            "15 건 저장완료..\n",
            "15 건 저장완료..\n",
            "15 건 저장완료..\n",
            "15 건 저장완료..\n",
            "15 건 저장완료..\n",
            "15 건 저장완료..\n",
            "15 건 저장완료..\n",
            "15 건 저장완료..\n",
            "15 건 저장완료..\n",
            "15 건 저장완료..\n",
            "15 건 저장완료..\n",
            "15 건 저장완료..\n",
            "15 건 저장완료..\n",
            "15 건 저장완료..\n",
            "15 건 저장완료..\n",
            "15 건 저장완료..\n",
            "15 건 저장완료..\n",
            "1 건 저장완료..\n"
          ]
        }
      ],
      "source": [
        "while(True):\n",
        "    df_list = []\n",
        "    response = requests.get('http://news.daum.net/breakingnews/digital?page={}&regDate={}'\\\n",
        "                            .format(page, REG_DATE))\n",
        "    root = lxml.html.fromstring(response.content)\n",
        "    for li in root.xpath('//*[@id=\"mArticle\"]/div[3]/ul/li'):\n",
        "        a = li.xpath('div/strong/a')[0]\n",
        "        url = a.get('href')\n",
        "        article = get_detail(url)\n",
        "        df_list.append([url, a.text, article])\n",
        "        # df = pd.DataFrame({'URL' : [url],'TITLE':[a.text],'ARTICLE' : [article]})\n",
        "        # df_list.append(df)\n",
        "\n",
        "    if df_list:\n",
        "        # df_10 = pd.concat(df_list)\n",
        "        df_10 = pd.DataFrame(df_list)\n",
        "        df_10.columns = ['URL', 'TITLE', 'ARTICLE']\n",
        "        db_save(df_10)\n",
        "\n",
        "    # 페이지 번호 중에서 max 페이지 가져오기\n",
        "    for a in root.xpath('//*[@id=\"mArticle\"]/div[3]/div/span/a'):\n",
        "        try:\n",
        "            num = int(a.text)\n",
        "            if max_page < num:\n",
        "                max_page = num\n",
        "        except:\n",
        "            pass\n",
        "\n",
        "    # 마지막 페이지 여부 확인\n",
        "    span = root.xpath('//*[@id=\"mArticle\"]/div[3]/div/span/a[@class=\"btn_page btn_next\"]')\n",
        "\n",
        "    if (len(span) <= 0) & (page >= max_page):\n",
        "        break\n",
        "    else:\n",
        "        page = page + 1\n",
        "\n",
        "    time.sleep(1)"
      ]
    },
    {
      "cell_type": "code",
      "execution_count": 8,
      "metadata": {
        "id": "ByAu7GQUdFsJ"
      },
      "outputs": [],
      "source": [
        "# db_delete()"
      ]
    },
    {
      "cell_type": "code",
      "execution_count": 9,
      "metadata": {
        "colab": {
          "base_uri": "https://localhost:8080/"
        },
        "id": "-5U_XsnwdFsJ",
        "outputId": "237ea437-069f-4bea-97f1-e12eed3766ee"
      },
      "outputs": [
        {
          "output_type": "stream",
          "name": "stdout",
          "text": [
            "                                        URL  \\\n",
            "0    https://v.daum.net/v/20230809095212544   \n",
            "1    https://v.daum.net/v/20230809095157531   \n",
            "2    https://v.daum.net/v/20230809095155529   \n",
            "3    https://v.daum.net/v/20230809095139520   \n",
            "4    https://v.daum.net/v/20230809095120511   \n",
            "..                                      ...   \n",
            "266  https://v.daum.net/v/20230809001348534   \n",
            "267  https://v.daum.net/v/20230809000600459   \n",
            "268  https://v.daum.net/v/20230809000523433   \n",
            "269  https://v.daum.net/v/20230809000103289   \n",
            "270  https://v.daum.net/v/20230809000034268   \n",
            "\n",
            "                                      TITLE ARTICLE  \n",
            "0                        비만인 사람의 뇌, 이것이 달랐다          \n",
            "1      [컨콜] 엔씨 \"콘솔 신작 프로젝트M, 아이온2 이후 출시 예상\"          \n",
            "2                 인프랩, '인프런'으로 IT 배움 장벽 낮춘다          \n",
            "3         바디텍메드, 2분기 영업이익 82억원…전년대비 168% 증가          \n",
            "4               펄펄 끓는 지구…'탄소 배출'이 원인이 아니라고?          \n",
            "..                                      ...     ...  \n",
            "266        中 해커 공격 받았는데도 ‘깜깜’...日 최고 기밀 털렸다          \n",
            "267                       보건의료데이터 활용 활성화 논의          \n",
            "268     [혁신도시 리포트] 심평원 신규직원 가족 초청 환영행사 ‘눈길’          \n",
            "269      보행 중 스마트폰 사용하다간 큰 사고 난다 [달콤한 사이언스]          \n",
            "270  출항 앞둔 KT 김영섭 호, 디지털전환·비용효율화로 경영 정상화 추진          \n",
            "\n",
            "[271 rows x 3 columns]\n"
          ]
        }
      ],
      "source": [
        "print(db_select())"
      ]
    },
    {
      "cell_type": "code",
      "execution_count": 9,
      "metadata": {
        "id": "KA1s_K9vdFsJ"
      },
      "outputs": [],
      "source": []
    }
  ],
  "metadata": {
    "kernelspec": {
      "display_name": "Python 3",
      "language": "python",
      "name": "python3"
    },
    "language_info": {
      "codemirror_mode": {
        "name": "ipython",
        "version": 3
      },
      "file_extension": ".py",
      "mimetype": "text/x-python",
      "name": "python",
      "nbconvert_exporter": "python",
      "pygments_lexer": "ipython3",
      "version": "3.8.8"
    },
    "colab": {
      "provenance": []
    }
  },
  "nbformat": 4,
  "nbformat_minor": 0
}