{
 "cells": [
  {
   "cell_type": "code",
   "execution_count": 3,
   "metadata": {},
   "outputs": [
    {
     "name": "stdout",
     "output_type": "stream",
     "text": [
      "Collecting cssselect\n",
      "  Downloading cssselect-1.2.0-py2.py3-none-any.whl (18 kB)\n",
      "Installing collected packages: cssselect\n",
      "Successfully installed cssselect-1.2.0\n"
     ]
    }
   ],
   "source": [
    "!pip install cssselect"
   ]
  },
  {
   "cell_type": "code",
   "execution_count": 4,
   "metadata": {},
   "outputs": [],
   "source": [
    "import requests\n",
    "import lxml.html"
   ]
  },
  {
   "cell_type": "code",
   "execution_count": 5,
   "metadata": {},
   "outputs": [
    {
     "name": "stdout",
     "output_type": "stream",
     "text": [
      "/store/books/look.php?p_code=B2158795523\n",
      "javascript:;\n",
      "/store/books/look.php?p_code=B2158795523\n",
      "/store/books/look.php?p_code=B2263537763\n",
      "/store/books/look.php?p_code=B2263537763\n",
      "/store/books/look.php?p_code=B8604798915\n",
      "javascript:;\n",
      "/store/books/look.php?p_code=B8604798915\n",
      "/store/books/look.php?p_code=B4793001395\n",
      "javascript:;\n",
      "/store/books/look.php?p_code=B4793001395\n",
      "/store/books/look.php?p_code=B3101735444\n",
      "javascript:;\n",
      "/store/books/look.php?p_code=B3101735444\n",
      "/store/books/look.php?p_code=B8810210113\n",
      "/store/books/look.php?p_code=B8810210113\n",
      "/store/books/look.php?p_code=B4094798240\n",
      "javascript:;\n",
      "/store/books/look.php?p_code=B4094798240\n",
      "/store/books/look.php?p_code=B3019959799\n",
      "/store/books/look.php?p_code=B3019959799\n",
      "/store/books/look.php?p_code=B9283379859\n",
      "javascript:;\n",
      "/store/books/look.php?p_code=B9283379859\n",
      "/store/books/look.php?p_code=B4649908889\n",
      "javascript:;\n",
      "/store/books/look.php?p_code=B4649908889\n",
      "/store/books/look.php?p_code=B4993447606\n",
      "javascript:;\n",
      "/store/books/look.php?p_code=B4993447606\n",
      "/store/books/look.php?p_code=B1288325617\n",
      "/store/books/look.php?p_code=B1288325617\n",
      "/store/books/look.php?p_code=B1273787042\n",
      "javascript:;\n",
      "/store/books/look.php?p_code=B1273787042\n",
      "/store/books/look.php?p_code=B9455762079\n",
      "/store/books/look.php?p_code=B9455762079\n",
      "/store/books/look.php?p_code=B1249731403\n",
      "/store/books/look.php?p_code=B1249731403\n",
      "/store/books/look.php?p_code=B3968340073\n",
      "/store/books/look.php?p_code=B3968340073\n",
      "/store/books/look.php?p_code=B9958016048\n",
      "/store/books/look.php?p_code=B9958016048\n",
      "/store/books/look.php?p_code=B1230440130\n",
      "javascript:;\n",
      "/store/books/look.php?p_code=B1230440130\n",
      "/store/books/look.php?p_code=B7230685099\n",
      "javascript:;\n",
      "/store/books/look.php?p_code=B7230685099\n",
      "/store/books/look.php?p_code=B1673729711\n",
      "/store/books/look.php?p_code=B1673729711\n"
     ]
    }
   ],
   "source": [
    "response = requests.get('http://www.hanbit.co.kr/store/books/new_book_list.html')\n",
    "root = lxml.html.fromstring(response.content)\n",
    "for a in root.cssselect('.view_box a'):\n",
    "    url = a.get('href')\n",
    "    print(url)"
   ]
  },
  {
   "cell_type": "code",
   "execution_count": null,
   "metadata": {},
   "outputs": [],
   "source": []
  }
 ],
 "metadata": {
  "kernelspec": {
   "display_name": "Python 3",
   "language": "python",
   "name": "python3"
  },
  "language_info": {
   "codemirror_mode": {
    "name": "ipython",
    "version": 3
   },
   "file_extension": ".py",
   "mimetype": "text/x-python",
   "name": "python",
   "nbconvert_exporter": "python",
   "pygments_lexer": "ipython3",
   "version": "3.8.8"
  }
 },
 "nbformat": 4,
 "nbformat_minor": 4
}
